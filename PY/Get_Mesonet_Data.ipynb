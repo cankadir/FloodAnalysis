{
 "cells": [
  {
   "cell_type": "code",
   "execution_count": 73,
   "metadata": {},
   "outputs": [
    {
     "name": "stdout",
     "output_type": "stream",
     "text": [
      "bknyrd 2021-09-02T00:57:30Z 2021-09-02T03:41:30Z\n"
     ]
    }
   ],
   "source": [
    "import pandas as pd\n",
    "\n",
    "sensor_name = 'nyc-micronet-bknyrd'\n",
    "sensor_name = sensor_name.split('-')[-1]\n",
    "\n",
    "start_time_utc = pd.to_datetime( '2021-09-02 01:27:30+00:00' )\n",
    "end_time_utc = pd.to_datetime( '2021-09-02 03:11:30+00:00' )\n",
    "\n",
    "padding = '30min'\n",
    "\n",
    "start_time_utc = start_time_utc - pd.Timedelta(padding)\n",
    "start_time_utc =  start_time_utc.isoformat().replace( \"+00:00\" , \"Z\")\n",
    "\n",
    "end_time_utc = end_time_utc + pd.Timedelta(padding)\n",
    "end_time_utc =  end_time_utc.isoformat().replace( \"+00:00\" , \"Z\")\n",
    "\n",
    "print( sensor_name , start_time_utc , end_time_utc )"
   ]
  },
  {
   "cell_type": "code",
   "execution_count": 80,
   "metadata": {},
   "outputs": [
    {
     "name": "stdout",
     "output_type": "stream",
     "text": [
      "https://api.nysmesonet.org/data/dynserv/coned/5min/nyc/2021-09-02T00:57:30Z/2021-09-02T03:41:30Z?variables[]=precip:incremental@mm&variables[]=precip@mm&variables[]=precip_max_intensity@mm/min\n"
     ]
    },
    {
     "data": {
      "text/html": [
       "<div>\n",
       "<style scoped>\n",
       "    .dataframe tbody tr th:only-of-type {\n",
       "        vertical-align: middle;\n",
       "    }\n",
       "\n",
       "    .dataframe tbody tr th {\n",
       "        vertical-align: top;\n",
       "    }\n",
       "\n",
       "    .dataframe thead th {\n",
       "        text-align: right;\n",
       "    }\n",
       "</style>\n",
       "<table border=\"1\" class=\"dataframe\">\n",
       "  <thead>\n",
       "    <tr style=\"text-align: right;\">\n",
       "      <th></th>\n",
       "      <th>station</th>\n",
       "      <th>datetime</th>\n",
       "      <th>precip_incremental [mm]</th>\n",
       "      <th>precip_utc [mm]</th>\n",
       "      <th>precip_max_intensity [mm/min]</th>\n",
       "    </tr>\n",
       "  </thead>\n",
       "  <tbody>\n",
       "    <tr>\n",
       "      <th>0</th>\n",
       "      <td>BKBROW</td>\n",
       "      <td>2021-09-02 01:00:00+00:00</td>\n",
       "      <td>0.13</td>\n",
       "      <td>8.12</td>\n",
       "      <td>0.00</td>\n",
       "    </tr>\n",
       "    <tr>\n",
       "      <th>1</th>\n",
       "      <td>BKMAPL</td>\n",
       "      <td>2021-09-02 01:00:00+00:00</td>\n",
       "      <td>0.27</td>\n",
       "      <td>3.68</td>\n",
       "      <td>0.11</td>\n",
       "    </tr>\n",
       "    <tr>\n",
       "      <th>2</th>\n",
       "      <td>BKNYRD</td>\n",
       "      <td>2021-09-02 01:00:00+00:00</td>\n",
       "      <td>1.57</td>\n",
       "      <td>10.46</td>\n",
       "      <td>0.76</td>\n",
       "    </tr>\n",
       "    <tr>\n",
       "      <th>3</th>\n",
       "      <td>BXVNST</td>\n",
       "      <td>2021-09-02 01:00:00+00:00</td>\n",
       "      <td>1.07</td>\n",
       "      <td>30.82</td>\n",
       "      <td>0.25</td>\n",
       "    </tr>\n",
       "    <tr>\n",
       "      <th>4</th>\n",
       "      <td>MHALPH</td>\n",
       "      <td>2021-09-02 01:00:00+00:00</td>\n",
       "      <td>0.69</td>\n",
       "      <td>11.03</td>\n",
       "      <td>0.40</td>\n",
       "    </tr>\n",
       "  </tbody>\n",
       "</table>\n",
       "</div>"
      ],
      "text/plain": [
       "  station                  datetime  precip_incremental [mm]  precip_utc [mm]  \\\n",
       "0  BKBROW 2021-09-02 01:00:00+00:00                     0.13             8.12   \n",
       "1  BKMAPL 2021-09-02 01:00:00+00:00                     0.27             3.68   \n",
       "2  BKNYRD 2021-09-02 01:00:00+00:00                     1.57            10.46   \n",
       "3  BXVNST 2021-09-02 01:00:00+00:00                     1.07            30.82   \n",
       "4  MHALPH 2021-09-02 01:00:00+00:00                     0.69            11.03   \n",
       "\n",
       "   precip_max_intensity [mm/min]  \n",
       "0                           0.00  \n",
       "1                           0.11  \n",
       "2                           0.76  \n",
       "3                           0.25  \n",
       "4                           0.40  "
      ]
     },
     "execution_count": 80,
     "metadata": {},
     "output_type": "execute_result"
    }
   ],
   "source": [
    "import io\n",
    "import requests\n",
    "\n",
    "timerange = f\"{start_time_utc}/{end_time_utc}\"\n",
    "payload = \"variables[]=precip:incremental@mm&variables[]=precip@mm&variables[]=precip_max_intensity@mm/min\"\n",
    "url = f'https://api.nysmesonet.org/data/dynserv/coned/5min/nyc/{timerange}?{payload}'\n",
    "\n",
    "print( url )\n",
    "\n",
    "data = requests.get( url )\n",
    "\n",
    "df = pd.read_csv( io.StringIO( data.content.decode('utf-8') ) , sep=\",\" , parse_dates=['datetime'])\n",
    "df.head()"
   ]
  },
  {
   "cell_type": "code",
   "execution_count": 82,
   "metadata": {},
   "outputs": [
    {
     "data": {
      "text/html": [
       "<div>\n",
       "<style scoped>\n",
       "    .dataframe tbody tr th:only-of-type {\n",
       "        vertical-align: middle;\n",
       "    }\n",
       "\n",
       "    .dataframe tbody tr th {\n",
       "        vertical-align: top;\n",
       "    }\n",
       "\n",
       "    .dataframe thead th {\n",
       "        text-align: right;\n",
       "    }\n",
       "</style>\n",
       "<table border=\"1\" class=\"dataframe\">\n",
       "  <thead>\n",
       "    <tr style=\"text-align: right;\">\n",
       "      <th></th>\n",
       "      <th>time_ny</th>\n",
       "      <th>precip_incremental [mm]</th>\n",
       "      <th>precip_utc [mm]</th>\n",
       "      <th>precip_max_intensity [mm/min]</th>\n",
       "    </tr>\n",
       "  </thead>\n",
       "  <tbody>\n",
       "    <tr>\n",
       "      <th>2</th>\n",
       "      <td>2021-09-01 21:00:00</td>\n",
       "      <td>1.57</td>\n",
       "      <td>10.46</td>\n",
       "      <td>0.76</td>\n",
       "    </tr>\n",
       "    <tr>\n",
       "      <th>19</th>\n",
       "      <td>2021-09-01 21:05:00</td>\n",
       "      <td>0.90</td>\n",
       "      <td>11.36</td>\n",
       "      <td>0.38</td>\n",
       "    </tr>\n",
       "    <tr>\n",
       "      <th>36</th>\n",
       "      <td>2021-09-01 21:10:00</td>\n",
       "      <td>1.32</td>\n",
       "      <td>12.68</td>\n",
       "      <td>0.35</td>\n",
       "    </tr>\n",
       "    <tr>\n",
       "      <th>53</th>\n",
       "      <td>2021-09-01 21:15:00</td>\n",
       "      <td>2.55</td>\n",
       "      <td>15.23</td>\n",
       "      <td>0.57</td>\n",
       "    </tr>\n",
       "    <tr>\n",
       "      <th>70</th>\n",
       "      <td>2021-09-01 21:20:00</td>\n",
       "      <td>3.57</td>\n",
       "      <td>18.80</td>\n",
       "      <td>0.89</td>\n",
       "    </tr>\n",
       "  </tbody>\n",
       "</table>\n",
       "</div>"
      ],
      "text/plain": [
       "               time_ny  precip_incremental [mm]  precip_utc [mm]  \\\n",
       "2  2021-09-01 21:00:00                     1.57            10.46   \n",
       "19 2021-09-01 21:05:00                     0.90            11.36   \n",
       "36 2021-09-01 21:10:00                     1.32            12.68   \n",
       "53 2021-09-01 21:15:00                     2.55            15.23   \n",
       "70 2021-09-01 21:20:00                     3.57            18.80   \n",
       "\n",
       "    precip_max_intensity [mm/min]  \n",
       "2                            0.76  \n",
       "19                           0.38  \n",
       "36                           0.35  \n",
       "53                           0.57  \n",
       "70                           0.89  "
      ]
     },
     "execution_count": 82,
     "metadata": {},
     "output_type": "execute_result"
    }
   ],
   "source": [
    "df = df[ df['station'] == sensor_name.upper() ].copy()\n",
    "df['time_ny'] = df['datetime'].dt.tz_convert('America/New_York').dt.tz_localize(None)\n",
    "df = df[ ['time_ny']  + list(df.columns[ df.columns.str.contains('precip') ].values) ]\n",
    "\n",
    "df['precip_max_intensity [in/min]'] = 0.03937008 * df['precip_max_intensity [mm/min]']\n",
    "\n",
    "df.head()"
   ]
  },
  {
   "cell_type": "code",
   "execution_count": 85,
   "metadata": {},
   "outputs": [
    {
     "data": {
      "text/plain": [
       "<Axes: xlabel='time_ny', ylabel='precip_max_intensity [in/min]'>"
      ]
     },
     "execution_count": 85,
     "metadata": {},
     "output_type": "execute_result"
    },
    {
     "data": {
      "image/png": "[encoded data removed]",
      "text/plain": [
       "<Figure size 640x480 with 1 Axes>"
      ]
     },
     "metadata": {},
     "output_type": "display_data"
    }
   ],
   "source": [
    "import matplotlib.pyplot as plt\n",
    "import seaborn as sns\n",
    "\n",
    "sns.barplot(\n",
    "    data = df,\n",
    "    x = 'time_ny' , y = 'precip_max_intensity [in/min]'\n",
    ")"
   ]
  }
 ],
 "metadata": {
  "kernelspec": {
   "display_name": "New_Analysis",
   "language": "python",
   "name": "python3"
  },
  "language_info": {
   "codemirror_mode": {
    "name": "ipython",
    "version": 3
   },
   "file_extension": ".py",
   "mimetype": "text/x-python",
   "name": "python",
   "nbconvert_exporter": "python",
   "pygments_lexer": "ipython3",
   "version": "3.12.2"
  }
 },
 "nbformat": 4,
 "nbformat_minor": 2
}
