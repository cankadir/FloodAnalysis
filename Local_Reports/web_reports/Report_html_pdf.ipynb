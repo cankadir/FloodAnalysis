{
 "cells": [
  {
   "cell_type": "code",
   "execution_count": 56,
   "metadata": {},
   "outputs": [],
   "source": [
    "title = 'Park Slope-Carroll Gardens'\n",
    "max_flood = 4.5\n",
    "flooded_days = 12\n",
    "start_time = '2019-01'\n",
    "end_time = '2021-08'\n",
    "\n",
    "path = \"D:/WORK/FLOODNET/Local_Reports/web_reports\"\n",
    "\n",
    "html_template = f'''\n",
    "    <!DOCTYPE html>\n",
    "    <html lang=\"en\">\n",
    "    <head>\n",
    "        <meta charset=\"UTF-8\">\n",
    "        <meta name=\"viewport\" content=\"width=device-width, initial-scale=1.0\">\n",
    "        <title>Document</title>\n",
    "        <!-- import style.css -->\n",
    "        <link rel=\"stylesheet\" href=\"stylenogrid.css\">\n",
    "        <!-- import Source Sans from Google Fonts -->\n",
    "        <link href=\"https://fonts.googleapis.com/css?family=Source+Sans+Pro:400,700\" rel=\"stylesheet\">\n",
    "\n",
    "    </head>\n",
    "    <body>\n",
    "        <div class=\"title-container\">\n",
    "            <h3>Local flood report</h3>\n",
    "            <h1>{title}</h1>\n",
    "        </div>\n",
    "\n",
    "        <div class=\"page-container\">\n",
    "            <h2>Flood sensor locations + frequency of days with floods</h2>\n",
    "            <p class=\"text\">(Days with one or more flood events detected ; 4 or more inches of water)</p>\n",
    "            \n",
    "            <div class=\"map-container\">\n",
    "                <div id=\"large-map\">\n",
    "                    <img src=\"./Charts/map1.png\" alt=\"Flooded Days\" style=\"height: 4in; width: 5in; border: #8a8c8e solid 0.5pt;\">\n",
    "                </div>\n",
    "\n",
    "                <div class=\"inset-column\">\n",
    "                    <div id=\"inset-grids\">\n",
    "                        <div class=\"inset-row\">\n",
    "                            <div class=\"inset-info blue-title\">{max_flood} inches</div>\n",
    "                            <div class=\"inset-info\">Highest water level detected, Sept. 2, 2021</div>\n",
    "                        </div>\n",
    "                        <div class=\"inset-row\">\n",
    "                            <div class=\"inset-info blue-title\">{flooded_days} floods</div>\n",
    "                            <div class=\"inset-info\">detected by neighborhood sensors since the first one was installed.</div>    \n",
    "                        </div>\n",
    "                    </div>\n",
    "                    <div class=\"inset-space\" style=\"font-size: 10px;font-weight: bold;\">\n",
    "                        Flood Sensor Detection<br>Frequency Citywide\n",
    "                    </div>\n",
    "                    <div id=\"inset-map\">\n",
    "                        <img id=\"inset-map-img\" src=\"./Charts/insetmap.png\" alt=\"Flooded Days\" >\n",
    "                    </div>\n",
    "                </div>  \n",
    "\n",
    "            </div>\n",
    "            <div class=\"hrline\" style=\"height: 0.15in;width: 100%;border-bottom: #8a8c8e solid 1pt;\"></div>\n",
    "            <div class=\"bottom-container\">\n",
    "                \n",
    "                <div class=\"explanation\">\n",
    "                    <h2 style=\"margin-bottom: 0.125in;\">About this Report</h2>\n",
    "                    <p class=\"text\">Lorem ipsum dolor sit amet, consectetur adipisicing elit. Dicta asperiores corporis iusto repellat aliquid reiciendis velit nostrum perspiciatis assumenda tempore fuga, optio repellendus animi deserunt nobis facere debitis molestias. Enim!</p>\n",
    "                    <br>\n",
    "                    <p class=\"text\"><b>Call to Action:</b> Lorem ipsum dolor sit, amet consectetur adipisicing elit. Est amet placeat vel? Animi est tempore distinctio, harum repellendus odio sint, hic velit, neque nisi obcaecati asperiores modi at atque! Dolorem.</p>\n",
    "                    <br>\n",
    "                    <p class=\"text\"><b>Data Source:</b> NYC Open Data</p>\n",
    "                </div>\n",
    "\n",
    "                <div class=\"viz311\">\n",
    "                    <h2>311 Flood related complaints</h2>\n",
    "                    <p class=\"text\" style=\"margin-bottom: 0.125in;\">By Month, {start_time} - {end_time}</p>\n",
    "                    <img src=\"./Charts/BK06 Park Slope-Carroll Gardens_heatmap.png\" alt=\"Flooded Days Heatmap\" style=\"width: 100%;\">\n",
    "                </div>\n",
    "            </div>\n",
    "            <p class=\"footer-text\">To learn more and to explore this data and information in greater depth, go to https://dataviz.floodnet.nyc/</p>\n",
    "        </div>\n",
    "    </body>\n",
    "    </html>\n",
    "'''\n",
    "\n",
    "# save html as html\n",
    "with open('report.html', 'w') as f:\n",
    "    f.write(html_template)\n"
   ]
  },
  {
   "cell_type": "code",
   "execution_count": 57,
   "metadata": {},
   "outputs": [
    {
     "name": "stdout",
     "output_type": "stream",
     "text": [
      "Loading pages (1/6)\n",
      "Counting pages (2/6)                                               \n",
      "Resolving links (4/6)                                                       \n",
      "Loading headers and footers (5/6)                                           \n",
      "Printing pages (6/6)\n",
      "Done                                                                      \n"
     ]
    },
    {
     "data": {
      "text/plain": [
       "True"
      ]
     },
     "execution_count": 57,
     "metadata": {},
     "output_type": "execute_result"
    }
   ],
   "source": [
    "import pdfkit\n",
    "\n",
    "#  import wkhtmltopdf location\n",
    "config = pdfkit.configuration(wkhtmltopdf='C:/Program Files/wkhtmltopdf/bin/wkhtmltopdf.exe')\n",
    "\n",
    "#  convert html to pdf\n",
    "pdfkit.from_file(\"D:/WORK/FLOODNET/Local_Reports/web_reports/report.html\", \"D:/WORK/FLOODNET/Local_Reports/web_reports/output.pdf\", configuration=config, verbose=True, options={\"enable-local-file-access\": True})\n"
   ]
  },
  {
   "cell_type": "code",
   "execution_count": null,
   "metadata": {},
   "outputs": [],
   "source": [
    "from weasyprint import HTML,CSS\n",
    "\n",
    "# Path to your external HTML file\n",
    "html_file_path = 'report.html'\n",
    "\n",
    "# Path to your external CSS file\n",
    "css_file_path = 'D:/WORK/FLOODNET/Local_Reports/web_reports/styles.css'\n",
    "\n",
    "# Path to save the output PDF file\n",
    "pdf_path = 'output.pdf'\n",
    "\n",
    "# Create a WeasyPrint HTML object with external CSS\n",
    "css = CSS(filename=css_file_path)\n",
    "html = HTML(filename=html_file_path, base_url='file:///' + css_file_path)\n",
    "\n",
    "# Convert HTML to PDF\n",
    "html.write_pdf(pdf_path)"
   ]
  }
 ],
 "metadata": {
  "kernelspec": {
   "display_name": "pdf_reporting",
   "language": "python",
   "name": "python3"
  },
  "language_info": {
   "codemirror_mode": {
    "name": "ipython",
    "version": 3
   },
   "file_extension": ".py",
   "mimetype": "text/x-python",
   "name": "python",
   "nbconvert_exporter": "python",
   "pygments_lexer": "ipython3",
   "version": "3.9.17"
  },
  "orig_nbformat": 4
 },
 "nbformat": 4,
 "nbformat_minor": 2
}
